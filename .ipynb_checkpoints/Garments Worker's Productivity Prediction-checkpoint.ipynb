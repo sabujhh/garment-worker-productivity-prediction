{
 "cells": [
  {
   "cell_type": "markdown",
   "id": "e9119280",
   "metadata": {},
   "source": [
    "# Importing Dataset"
   ]
  },
  {
   "cell_type": "code",
   "execution_count": 2,
   "id": "c6019aa0",
   "metadata": {},
   "outputs": [],
   "source": [
    "import os\n",
    "path = \"G:\\Data Science Projects\\Garments Worker's Productivity Prediction\"\n",
    "os.chdir(path)"
   ]
  },
  {
   "cell_type": "code",
   "execution_count": 1,
   "id": "1816493d",
   "metadata": {},
   "outputs": [],
   "source": [
    "import pandas as pd\n",
    "import seaborn as sns\n",
    "import matplotlib.pyplot as plt\n",
    "import numpy as np\n",
    "import sklearn"
   ]
  },
  {
   "cell_type": "code",
   "execution_count": 85,
   "id": "0426516d",
   "metadata": {},
   "outputs": [
    {
     "data": {
      "text/html": [
       "<div>\n",
       "<style scoped>\n",
       "    .dataframe tbody tr th:only-of-type {\n",
       "        vertical-align: middle;\n",
       "    }\n",
       "\n",
       "    .dataframe tbody tr th {\n",
       "        vertical-align: top;\n",
       "    }\n",
       "\n",
       "    .dataframe thead th {\n",
       "        text-align: right;\n",
       "    }\n",
       "</style>\n",
       "<table border=\"1\" class=\"dataframe\">\n",
       "  <thead>\n",
       "    <tr style=\"text-align: right;\">\n",
       "      <th></th>\n",
       "      <th>date</th>\n",
       "      <th>quarter</th>\n",
       "      <th>department</th>\n",
       "      <th>day</th>\n",
       "      <th>team</th>\n",
       "      <th>targeted_productivity</th>\n",
       "      <th>smv</th>\n",
       "      <th>wip</th>\n",
       "      <th>over_time</th>\n",
       "      <th>incentive</th>\n",
       "      <th>idle_time</th>\n",
       "      <th>idle_men</th>\n",
       "      <th>no_of_style_change</th>\n",
       "      <th>no_of_workers</th>\n",
       "      <th>actual_productivity</th>\n",
       "    </tr>\n",
       "  </thead>\n",
       "  <tbody>\n",
       "    <tr>\n",
       "      <th>0</th>\n",
       "      <td>1/1/2015</td>\n",
       "      <td>Quarter1</td>\n",
       "      <td>sweing</td>\n",
       "      <td>Thursday</td>\n",
       "      <td>8</td>\n",
       "      <td>0.80</td>\n",
       "      <td>26.16</td>\n",
       "      <td>1108.0</td>\n",
       "      <td>7080</td>\n",
       "      <td>98</td>\n",
       "      <td>0.0</td>\n",
       "      <td>0</td>\n",
       "      <td>0</td>\n",
       "      <td>59.0</td>\n",
       "      <td>0.940725</td>\n",
       "    </tr>\n",
       "    <tr>\n",
       "      <th>1</th>\n",
       "      <td>1/1/2015</td>\n",
       "      <td>Quarter1</td>\n",
       "      <td>finishing</td>\n",
       "      <td>Thursday</td>\n",
       "      <td>1</td>\n",
       "      <td>0.75</td>\n",
       "      <td>3.94</td>\n",
       "      <td>NaN</td>\n",
       "      <td>960</td>\n",
       "      <td>0</td>\n",
       "      <td>0.0</td>\n",
       "      <td>0</td>\n",
       "      <td>0</td>\n",
       "      <td>8.0</td>\n",
       "      <td>0.886500</td>\n",
       "    </tr>\n",
       "    <tr>\n",
       "      <th>2</th>\n",
       "      <td>1/1/2015</td>\n",
       "      <td>Quarter1</td>\n",
       "      <td>sweing</td>\n",
       "      <td>Thursday</td>\n",
       "      <td>11</td>\n",
       "      <td>0.80</td>\n",
       "      <td>11.41</td>\n",
       "      <td>968.0</td>\n",
       "      <td>3660</td>\n",
       "      <td>50</td>\n",
       "      <td>0.0</td>\n",
       "      <td>0</td>\n",
       "      <td>0</td>\n",
       "      <td>30.5</td>\n",
       "      <td>0.800570</td>\n",
       "    </tr>\n",
       "    <tr>\n",
       "      <th>3</th>\n",
       "      <td>1/1/2015</td>\n",
       "      <td>Quarter1</td>\n",
       "      <td>sweing</td>\n",
       "      <td>Thursday</td>\n",
       "      <td>12</td>\n",
       "      <td>0.80</td>\n",
       "      <td>11.41</td>\n",
       "      <td>968.0</td>\n",
       "      <td>3660</td>\n",
       "      <td>50</td>\n",
       "      <td>0.0</td>\n",
       "      <td>0</td>\n",
       "      <td>0</td>\n",
       "      <td>30.5</td>\n",
       "      <td>0.800570</td>\n",
       "    </tr>\n",
       "    <tr>\n",
       "      <th>4</th>\n",
       "      <td>1/1/2015</td>\n",
       "      <td>Quarter1</td>\n",
       "      <td>sweing</td>\n",
       "      <td>Thursday</td>\n",
       "      <td>6</td>\n",
       "      <td>0.80</td>\n",
       "      <td>25.90</td>\n",
       "      <td>1170.0</td>\n",
       "      <td>1920</td>\n",
       "      <td>50</td>\n",
       "      <td>0.0</td>\n",
       "      <td>0</td>\n",
       "      <td>0</td>\n",
       "      <td>56.0</td>\n",
       "      <td>0.800382</td>\n",
       "    </tr>\n",
       "  </tbody>\n",
       "</table>\n",
       "</div>"
      ],
      "text/plain": [
       "       date   quarter  department       day  team  targeted_productivity  \\\n",
       "0  1/1/2015  Quarter1      sweing  Thursday     8                   0.80   \n",
       "1  1/1/2015  Quarter1  finishing   Thursday     1                   0.75   \n",
       "2  1/1/2015  Quarter1      sweing  Thursday    11                   0.80   \n",
       "3  1/1/2015  Quarter1      sweing  Thursday    12                   0.80   \n",
       "4  1/1/2015  Quarter1      sweing  Thursday     6                   0.80   \n",
       "\n",
       "     smv     wip  over_time  incentive  idle_time  idle_men  \\\n",
       "0  26.16  1108.0       7080         98        0.0         0   \n",
       "1   3.94     NaN        960          0        0.0         0   \n",
       "2  11.41   968.0       3660         50        0.0         0   \n",
       "3  11.41   968.0       3660         50        0.0         0   \n",
       "4  25.90  1170.0       1920         50        0.0         0   \n",
       "\n",
       "   no_of_style_change  no_of_workers  actual_productivity  \n",
       "0                   0           59.0             0.940725  \n",
       "1                   0            8.0             0.886500  \n",
       "2                   0           30.5             0.800570  \n",
       "3                   0           30.5             0.800570  \n",
       "4                   0           56.0             0.800382  "
      ]
     },
     "execution_count": 85,
     "metadata": {},
     "output_type": "execute_result"
    }
   ],
   "source": [
    "df = pd.read_csv('garments_worker_productivity.csv')\n",
    "df.head()"
   ]
  },
  {
   "cell_type": "code",
   "execution_count": 86,
   "id": "c9feaf05",
   "metadata": {},
   "outputs": [
    {
     "data": {
      "text/plain": [
       "(1197, 15)"
      ]
     },
     "execution_count": 86,
     "metadata": {},
     "output_type": "execute_result"
    }
   ],
   "source": [
    "df.shape"
   ]
  },
  {
   "cell_type": "code",
   "execution_count": 87,
   "id": "e967a5a8",
   "metadata": {},
   "outputs": [
    {
     "data": {
      "text/html": [
       "<div>\n",
       "<style scoped>\n",
       "    .dataframe tbody tr th:only-of-type {\n",
       "        vertical-align: middle;\n",
       "    }\n",
       "\n",
       "    .dataframe tbody tr th {\n",
       "        vertical-align: top;\n",
       "    }\n",
       "\n",
       "    .dataframe thead th {\n",
       "        text-align: right;\n",
       "    }\n",
       "</style>\n",
       "<table border=\"1\" class=\"dataframe\">\n",
       "  <thead>\n",
       "    <tr style=\"text-align: right;\">\n",
       "      <th></th>\n",
       "      <th>team</th>\n",
       "      <th>targeted_productivity</th>\n",
       "      <th>smv</th>\n",
       "      <th>wip</th>\n",
       "      <th>over_time</th>\n",
       "      <th>incentive</th>\n",
       "      <th>idle_time</th>\n",
       "      <th>idle_men</th>\n",
       "      <th>no_of_style_change</th>\n",
       "      <th>no_of_workers</th>\n",
       "      <th>actual_productivity</th>\n",
       "    </tr>\n",
       "  </thead>\n",
       "  <tbody>\n",
       "    <tr>\n",
       "      <th>count</th>\n",
       "      <td>1197.000000</td>\n",
       "      <td>1197.000000</td>\n",
       "      <td>1197.000000</td>\n",
       "      <td>691.000000</td>\n",
       "      <td>1197.000000</td>\n",
       "      <td>1197.000000</td>\n",
       "      <td>1197.000000</td>\n",
       "      <td>1197.000000</td>\n",
       "      <td>1197.000000</td>\n",
       "      <td>1197.000000</td>\n",
       "      <td>1197.000000</td>\n",
       "    </tr>\n",
       "    <tr>\n",
       "      <th>mean</th>\n",
       "      <td>6.426901</td>\n",
       "      <td>0.729632</td>\n",
       "      <td>15.062172</td>\n",
       "      <td>1190.465991</td>\n",
       "      <td>4567.460317</td>\n",
       "      <td>38.210526</td>\n",
       "      <td>0.730159</td>\n",
       "      <td>0.369256</td>\n",
       "      <td>0.150376</td>\n",
       "      <td>34.609858</td>\n",
       "      <td>0.735091</td>\n",
       "    </tr>\n",
       "    <tr>\n",
       "      <th>std</th>\n",
       "      <td>3.463963</td>\n",
       "      <td>0.097891</td>\n",
       "      <td>10.943219</td>\n",
       "      <td>1837.455001</td>\n",
       "      <td>3348.823563</td>\n",
       "      <td>160.182643</td>\n",
       "      <td>12.709757</td>\n",
       "      <td>3.268987</td>\n",
       "      <td>0.427848</td>\n",
       "      <td>22.197687</td>\n",
       "      <td>0.174488</td>\n",
       "    </tr>\n",
       "    <tr>\n",
       "      <th>min</th>\n",
       "      <td>1.000000</td>\n",
       "      <td>0.070000</td>\n",
       "      <td>2.900000</td>\n",
       "      <td>7.000000</td>\n",
       "      <td>0.000000</td>\n",
       "      <td>0.000000</td>\n",
       "      <td>0.000000</td>\n",
       "      <td>0.000000</td>\n",
       "      <td>0.000000</td>\n",
       "      <td>2.000000</td>\n",
       "      <td>0.233705</td>\n",
       "    </tr>\n",
       "    <tr>\n",
       "      <th>25%</th>\n",
       "      <td>3.000000</td>\n",
       "      <td>0.700000</td>\n",
       "      <td>3.940000</td>\n",
       "      <td>774.500000</td>\n",
       "      <td>1440.000000</td>\n",
       "      <td>0.000000</td>\n",
       "      <td>0.000000</td>\n",
       "      <td>0.000000</td>\n",
       "      <td>0.000000</td>\n",
       "      <td>9.000000</td>\n",
       "      <td>0.650307</td>\n",
       "    </tr>\n",
       "    <tr>\n",
       "      <th>50%</th>\n",
       "      <td>6.000000</td>\n",
       "      <td>0.750000</td>\n",
       "      <td>15.260000</td>\n",
       "      <td>1039.000000</td>\n",
       "      <td>3960.000000</td>\n",
       "      <td>0.000000</td>\n",
       "      <td>0.000000</td>\n",
       "      <td>0.000000</td>\n",
       "      <td>0.000000</td>\n",
       "      <td>34.000000</td>\n",
       "      <td>0.773333</td>\n",
       "    </tr>\n",
       "    <tr>\n",
       "      <th>75%</th>\n",
       "      <td>9.000000</td>\n",
       "      <td>0.800000</td>\n",
       "      <td>24.260000</td>\n",
       "      <td>1252.500000</td>\n",
       "      <td>6960.000000</td>\n",
       "      <td>50.000000</td>\n",
       "      <td>0.000000</td>\n",
       "      <td>0.000000</td>\n",
       "      <td>0.000000</td>\n",
       "      <td>57.000000</td>\n",
       "      <td>0.850253</td>\n",
       "    </tr>\n",
       "    <tr>\n",
       "      <th>max</th>\n",
       "      <td>12.000000</td>\n",
       "      <td>0.800000</td>\n",
       "      <td>54.560000</td>\n",
       "      <td>23122.000000</td>\n",
       "      <td>25920.000000</td>\n",
       "      <td>3600.000000</td>\n",
       "      <td>300.000000</td>\n",
       "      <td>45.000000</td>\n",
       "      <td>2.000000</td>\n",
       "      <td>89.000000</td>\n",
       "      <td>1.120437</td>\n",
       "    </tr>\n",
       "  </tbody>\n",
       "</table>\n",
       "</div>"
      ],
      "text/plain": [
       "              team  targeted_productivity          smv           wip  \\\n",
       "count  1197.000000            1197.000000  1197.000000    691.000000   \n",
       "mean      6.426901               0.729632    15.062172   1190.465991   \n",
       "std       3.463963               0.097891    10.943219   1837.455001   \n",
       "min       1.000000               0.070000     2.900000      7.000000   \n",
       "25%       3.000000               0.700000     3.940000    774.500000   \n",
       "50%       6.000000               0.750000    15.260000   1039.000000   \n",
       "75%       9.000000               0.800000    24.260000   1252.500000   \n",
       "max      12.000000               0.800000    54.560000  23122.000000   \n",
       "\n",
       "          over_time    incentive    idle_time     idle_men  \\\n",
       "count   1197.000000  1197.000000  1197.000000  1197.000000   \n",
       "mean    4567.460317    38.210526     0.730159     0.369256   \n",
       "std     3348.823563   160.182643    12.709757     3.268987   \n",
       "min        0.000000     0.000000     0.000000     0.000000   \n",
       "25%     1440.000000     0.000000     0.000000     0.000000   \n",
       "50%     3960.000000     0.000000     0.000000     0.000000   \n",
       "75%     6960.000000    50.000000     0.000000     0.000000   \n",
       "max    25920.000000  3600.000000   300.000000    45.000000   \n",
       "\n",
       "       no_of_style_change  no_of_workers  actual_productivity  \n",
       "count         1197.000000    1197.000000          1197.000000  \n",
       "mean             0.150376      34.609858             0.735091  \n",
       "std              0.427848      22.197687             0.174488  \n",
       "min              0.000000       2.000000             0.233705  \n",
       "25%              0.000000       9.000000             0.650307  \n",
       "50%              0.000000      34.000000             0.773333  \n",
       "75%              0.000000      57.000000             0.850253  \n",
       "max              2.000000      89.000000             1.120437  "
      ]
     },
     "execution_count": 87,
     "metadata": {},
     "output_type": "execute_result"
    }
   ],
   "source": [
    "df.describe()"
   ]
  },
  {
   "cell_type": "markdown",
   "id": "ae890c95",
   "metadata": {},
   "source": [
    "# Dropping Unimportant Columns"
   ]
  },
  {
   "cell_type": "code",
   "execution_count": 88,
   "id": "f41123ad",
   "metadata": {},
   "outputs": [],
   "source": [
    "df2 = df.drop(['date', 'day'], axis=1)"
   ]
  },
  {
   "cell_type": "code",
   "execution_count": 89,
   "id": "88798781",
   "metadata": {},
   "outputs": [
    {
     "data": {
      "text/plain": [
       "(1197, 13)"
      ]
     },
     "execution_count": 89,
     "metadata": {},
     "output_type": "execute_result"
    }
   ],
   "source": [
    "df2.shape"
   ]
  },
  {
   "cell_type": "markdown",
   "id": "2d07e7c3",
   "metadata": {},
   "source": [
    "# Handing Missing Values"
   ]
  },
  {
   "cell_type": "code",
   "execution_count": 90,
   "id": "711f6a96",
   "metadata": {},
   "outputs": [
    {
     "data": {
      "text/plain": [
       "quarter                    0\n",
       "department                 0\n",
       "team                       0\n",
       "targeted_productivity      0\n",
       "smv                        0\n",
       "wip                      506\n",
       "over_time                  0\n",
       "incentive                  0\n",
       "idle_time                  0\n",
       "idle_men                   0\n",
       "no_of_style_change         0\n",
       "no_of_workers              0\n",
       "actual_productivity        0\n",
       "dtype: int64"
      ]
     },
     "execution_count": 90,
     "metadata": {},
     "output_type": "execute_result"
    }
   ],
   "source": [
    "df2.isnull().sum()"
   ]
  },
  {
   "cell_type": "code",
   "execution_count": 91,
   "id": "a7421528",
   "metadata": {},
   "outputs": [],
   "source": [
    "df3 = df2.fillna({\n",
    "        'wip': 0,\n",
    "        })"
   ]
  },
  {
   "cell_type": "code",
   "execution_count": 92,
   "id": "aa9f1c9f",
   "metadata": {},
   "outputs": [
    {
     "data": {
      "text/plain": [
       "quarter                  0\n",
       "department               0\n",
       "team                     0\n",
       "targeted_productivity    0\n",
       "smv                      0\n",
       "wip                      0\n",
       "over_time                0\n",
       "incentive                0\n",
       "idle_time                0\n",
       "idle_men                 0\n",
       "no_of_style_change       0\n",
       "no_of_workers            0\n",
       "actual_productivity      0\n",
       "dtype: int64"
      ]
     },
     "execution_count": 92,
     "metadata": {},
     "output_type": "execute_result"
    }
   ],
   "source": [
    "df3.isnull().sum()"
   ]
  },
  {
   "cell_type": "markdown",
   "id": "513efef6",
   "metadata": {},
   "source": [
    "# Outliers Detection and Removal"
   ]
  },
  {
   "cell_type": "markdown",
   "id": "0740bf97",
   "metadata": {},
   "source": [
    "### Outliers Detection "
   ]
  },
  {
   "cell_type": "code",
   "execution_count": 202,
   "id": "58c0bd2b",
   "metadata": {},
   "outputs": [
    {
     "data": {
      "text/plain": [
       "(array([ 0,  1,  2,  3,  4,  5,  6,  7,  8,  9, 10, 11, 12]),\n",
       " [Text(0, 0, 'quarter'),\n",
       "  Text(1, 0, 'department'),\n",
       "  Text(2, 0, 'team'),\n",
       "  Text(3, 0, 'targeted_productivity'),\n",
       "  Text(4, 0, 'smv'),\n",
       "  Text(5, 0, 'wip'),\n",
       "  Text(6, 0, 'over_time'),\n",
       "  Text(7, 0, 'incentive'),\n",
       "  Text(8, 0, 'idle_time'),\n",
       "  Text(9, 0, 'idle_men'),\n",
       "  Text(10, 0, 'no_of_style_change'),\n",
       "  Text(11, 0, 'no_of_workers'),\n",
       "  Text(12, 0, 'actual_productivity')])"
      ]
     },
     "execution_count": 202,
     "metadata": {},
     "output_type": "execute_result"
    },
    {
     "data": {
      "image/png": "[encoded data removed]",
      "text/plain": [
       "<Figure size 720x360 with 1 Axes>"
      ]
     },
     "metadata": {
      "needs_background": "light"
     },
     "output_type": "display_data"
    }
   ],
   "source": [
    "plt.figure(figsize=(10,5))\n",
    "p = sns.boxplot(data = df3, orient ='v',width=0.8)\n",
    "plt.xticks(rotation=90)"
   ]
  },
  {
   "cell_type": "markdown",
   "id": "6b93a7ef",
   "metadata": {},
   "source": [
    "### Removing Outliers for 'incentive' column"
   ]
  },
  {
   "cell_type": "code",
   "execution_count": 121,
   "id": "626be2b9",
   "metadata": {},
   "outputs": [
    {
     "data": {
      "text/plain": [
       "(0.0, 50.0)"
      ]
     },
     "execution_count": 121,
     "metadata": {},
     "output_type": "execute_result"
    }
   ],
   "source": [
    "Q1 = df3.incentive.quantile(0.25)\n",
    "Q3 = df3.incentive.quantile(0.75)\n",
    "Q1, Q3"
   ]
  },
  {
   "cell_type": "code",
   "execution_count": 122,
   "id": "2388a977",
   "metadata": {},
   "outputs": [
    {
     "data": {
      "text/plain": [
       "50.0"
      ]
     },
     "execution_count": 122,
     "metadata": {},
     "output_type": "execute_result"
    }
   ],
   "source": [
    "IQR = Q3 - Q1\n",
    "IQR"
   ]
  },
  {
   "cell_type": "code",
   "execution_count": 123,
   "id": "6f809eac",
   "metadata": {},
   "outputs": [
    {
     "data": {
      "text/plain": [
       "(-75.0, 125.0)"
      ]
     },
     "execution_count": 123,
     "metadata": {},
     "output_type": "execute_result"
    }
   ],
   "source": [
    "lower_limit = Q1 - 1.5*IQR\n",
    "upper_limit = Q3 + 1.5*IQR\n",
    "lower_limit, upper_limit"
   ]
  },
  {
   "cell_type": "code",
   "execution_count": 124,
   "id": "1e79c26e",
   "metadata": {},
   "outputs": [
    {
     "data": {
      "text/html": [
       "<div>\n",
       "<style scoped>\n",
       "    .dataframe tbody tr th:only-of-type {\n",
       "        vertical-align: middle;\n",
       "    }\n",
       "\n",
       "    .dataframe tbody tr th {\n",
       "        vertical-align: top;\n",
       "    }\n",
       "\n",
       "    .dataframe thead th {\n",
       "        text-align: right;\n",
       "    }\n",
       "</style>\n",
       "<table border=\"1\" class=\"dataframe\">\n",
       "  <thead>\n",
       "    <tr style=\"text-align: right;\">\n",
       "      <th></th>\n",
       "      <th>quarter</th>\n",
       "      <th>department</th>\n",
       "      <th>team</th>\n",
       "      <th>targeted_productivity</th>\n",
       "      <th>smv</th>\n",
       "      <th>wip</th>\n",
       "      <th>over_time</th>\n",
       "      <th>incentive</th>\n",
       "      <th>idle_time</th>\n",
       "      <th>idle_men</th>\n",
       "      <th>no_of_style_change</th>\n",
       "      <th>no_of_workers</th>\n",
       "      <th>actual_productivity</th>\n",
       "    </tr>\n",
       "  </thead>\n",
       "  <tbody>\n",
       "    <tr>\n",
       "      <th>730</th>\n",
       "      <td>1</td>\n",
       "      <td>2</td>\n",
       "      <td>0</td>\n",
       "      <td>8</td>\n",
       "      <td>22.52</td>\n",
       "      <td>1397.0</td>\n",
       "      <td>0</td>\n",
       "      <td>138</td>\n",
       "      <td>0.0</td>\n",
       "      <td>0</td>\n",
       "      <td>0</td>\n",
       "      <td>57.0</td>\n",
       "      <td>1.100484</td>\n",
       "    </tr>\n",
       "    <tr>\n",
       "      <th>1128</th>\n",
       "      <td>1</td>\n",
       "      <td>0</td>\n",
       "      <td>10</td>\n",
       "      <td>8</td>\n",
       "      <td>2.90</td>\n",
       "      <td>0.0</td>\n",
       "      <td>0</td>\n",
       "      <td>960</td>\n",
       "      <td>0.0</td>\n",
       "      <td>0</td>\n",
       "      <td>0</td>\n",
       "      <td>8.0</td>\n",
       "      <td>0.960625</td>\n",
       "    </tr>\n",
       "    <tr>\n",
       "      <th>1129</th>\n",
       "      <td>1</td>\n",
       "      <td>0</td>\n",
       "      <td>11</td>\n",
       "      <td>8</td>\n",
       "      <td>4.60</td>\n",
       "      <td>0.0</td>\n",
       "      <td>0</td>\n",
       "      <td>1080</td>\n",
       "      <td>0.0</td>\n",
       "      <td>0</td>\n",
       "      <td>0</td>\n",
       "      <td>9.0</td>\n",
       "      <td>0.902963</td>\n",
       "    </tr>\n",
       "    <tr>\n",
       "      <th>1130</th>\n",
       "      <td>1</td>\n",
       "      <td>0</td>\n",
       "      <td>4</td>\n",
       "      <td>4</td>\n",
       "      <td>3.94</td>\n",
       "      <td>0.0</td>\n",
       "      <td>0</td>\n",
       "      <td>2880</td>\n",
       "      <td>0.0</td>\n",
       "      <td>0</td>\n",
       "      <td>0</td>\n",
       "      <td>12.0</td>\n",
       "      <td>0.864343</td>\n",
       "    </tr>\n",
       "    <tr>\n",
       "      <th>1133</th>\n",
       "      <td>1</td>\n",
       "      <td>0</td>\n",
       "      <td>8</td>\n",
       "      <td>7</td>\n",
       "      <td>2.90</td>\n",
       "      <td>0.0</td>\n",
       "      <td>0</td>\n",
       "      <td>3600</td>\n",
       "      <td>0.0</td>\n",
       "      <td>0</td>\n",
       "      <td>0</td>\n",
       "      <td>15.0</td>\n",
       "      <td>0.841000</td>\n",
       "    </tr>\n",
       "    <tr>\n",
       "      <th>1137</th>\n",
       "      <td>1</td>\n",
       "      <td>0</td>\n",
       "      <td>2</td>\n",
       "      <td>8</td>\n",
       "      <td>4.60</td>\n",
       "      <td>0.0</td>\n",
       "      <td>0</td>\n",
       "      <td>1440</td>\n",
       "      <td>0.0</td>\n",
       "      <td>0</td>\n",
       "      <td>0</td>\n",
       "      <td>12.0</td>\n",
       "      <td>0.795417</td>\n",
       "    </tr>\n",
       "    <tr>\n",
       "      <th>1138</th>\n",
       "      <td>1</td>\n",
       "      <td>0</td>\n",
       "      <td>3</td>\n",
       "      <td>7</td>\n",
       "      <td>3.94</td>\n",
       "      <td>0.0</td>\n",
       "      <td>0</td>\n",
       "      <td>960</td>\n",
       "      <td>0.0</td>\n",
       "      <td>0</td>\n",
       "      <td>0</td>\n",
       "      <td>8.0</td>\n",
       "      <td>0.795388</td>\n",
       "    </tr>\n",
       "    <tr>\n",
       "      <th>1139</th>\n",
       "      <td>1</td>\n",
       "      <td>0</td>\n",
       "      <td>0</td>\n",
       "      <td>7</td>\n",
       "      <td>3.94</td>\n",
       "      <td>0.0</td>\n",
       "      <td>0</td>\n",
       "      <td>960</td>\n",
       "      <td>0.0</td>\n",
       "      <td>0</td>\n",
       "      <td>0</td>\n",
       "      <td>8.0</td>\n",
       "      <td>0.794567</td>\n",
       "    </tr>\n",
       "    <tr>\n",
       "      <th>1143</th>\n",
       "      <td>1</td>\n",
       "      <td>0</td>\n",
       "      <td>1</td>\n",
       "      <td>6</td>\n",
       "      <td>3.90</td>\n",
       "      <td>0.0</td>\n",
       "      <td>0</td>\n",
       "      <td>1200</td>\n",
       "      <td>0.0</td>\n",
       "      <td>0</td>\n",
       "      <td>0</td>\n",
       "      <td>10.0</td>\n",
       "      <td>0.682500</td>\n",
       "    </tr>\n",
       "    <tr>\n",
       "      <th>1148</th>\n",
       "      <td>1</td>\n",
       "      <td>0</td>\n",
       "      <td>9</td>\n",
       "      <td>6</td>\n",
       "      <td>2.90</td>\n",
       "      <td>0.0</td>\n",
       "      <td>0</td>\n",
       "      <td>960</td>\n",
       "      <td>0.0</td>\n",
       "      <td>0</td>\n",
       "      <td>0</td>\n",
       "      <td>8.0</td>\n",
       "      <td>0.477292</td>\n",
       "    </tr>\n",
       "    <tr>\n",
       "      <th>1149</th>\n",
       "      <td>1</td>\n",
       "      <td>0</td>\n",
       "      <td>7</td>\n",
       "      <td>5</td>\n",
       "      <td>3.90</td>\n",
       "      <td>0.0</td>\n",
       "      <td>0</td>\n",
       "      <td>960</td>\n",
       "      <td>0.0</td>\n",
       "      <td>0</td>\n",
       "      <td>0</td>\n",
       "      <td>8.0</td>\n",
       "      <td>0.264062</td>\n",
       "    </tr>\n",
       "  </tbody>\n",
       "</table>\n",
       "</div>"
      ],
      "text/plain": [
       "      quarter  department  team  targeted_productivity    smv     wip  \\\n",
       "730         1           2     0                      8  22.52  1397.0   \n",
       "1128        1           0    10                      8   2.90     0.0   \n",
       "1129        1           0    11                      8   4.60     0.0   \n",
       "1130        1           0     4                      4   3.94     0.0   \n",
       "1133        1           0     8                      7   2.90     0.0   \n",
       "1137        1           0     2                      8   4.60     0.0   \n",
       "1138        1           0     3                      7   3.94     0.0   \n",
       "1139        1           0     0                      7   3.94     0.0   \n",
       "1143        1           0     1                      6   3.90     0.0   \n",
       "1148        1           0     9                      6   2.90     0.0   \n",
       "1149        1           0     7                      5   3.90     0.0   \n",
       "\n",
       "      over_time  incentive  idle_time  idle_men  no_of_style_change  \\\n",
       "730           0        138        0.0         0                   0   \n",
       "1128          0        960        0.0         0                   0   \n",
       "1129          0       1080        0.0         0                   0   \n",
       "1130          0       2880        0.0         0                   0   \n",
       "1133          0       3600        0.0         0                   0   \n",
       "1137          0       1440        0.0         0                   0   \n",
       "1138          0        960        0.0         0                   0   \n",
       "1139          0        960        0.0         0                   0   \n",
       "1143          0       1200        0.0         0                   0   \n",
       "1148          0        960        0.0         0                   0   \n",
       "1149          0        960        0.0         0                   0   \n",
       "\n",
       "      no_of_workers  actual_productivity  \n",
       "730            57.0             1.100484  \n",
       "1128            8.0             0.960625  \n",
       "1129            9.0             0.902963  \n",
       "1130           12.0             0.864343  \n",
       "1133           15.0             0.841000  \n",
       "1137           12.0             0.795417  \n",
       "1138            8.0             0.795388  \n",
       "1139            8.0             0.794567  \n",
       "1143           10.0             0.682500  \n",
       "1148            8.0             0.477292  \n",
       "1149            8.0             0.264062  "
      ]
     },
     "execution_count": 124,
     "metadata": {},
     "output_type": "execute_result"
    }
   ],
   "source": [
    "df3[(df3.incentive<lower_limit)|(df3.incentive>upper_limit)]"
   ]
  },
  {
   "cell_type": "code",
   "execution_count": 126,
   "id": "5c8f3ffb",
   "metadata": {},
   "outputs": [],
   "source": [
    "df4 = df3[(df3.incentive>lower_limit)&(df3.incentive<upper_limit)]"
   ]
  },
  {
   "cell_type": "code",
   "execution_count": 128,
   "id": "ab947edc",
   "metadata": {},
   "outputs": [
    {
     "data": {
      "text/plain": [
       "(1186, 13)"
      ]
     },
     "execution_count": 128,
     "metadata": {},
     "output_type": "execute_result"
    }
   ],
   "source": [
    "df4.shape"
   ]
  },
  {
   "cell_type": "markdown",
   "id": "861943fb",
   "metadata": {},
   "source": [
    "### Removing Outliers for 'wip' column"
   ]
  },
  {
   "cell_type": "code",
   "execution_count": 134,
   "id": "3e2cc2d9",
   "metadata": {},
   "outputs": [
    {
     "data": {
      "text/plain": [
       "(0.0, 1084.75)"
      ]
     },
     "execution_count": 134,
     "metadata": {},
     "output_type": "execute_result"
    }
   ],
   "source": [
    "Q1 = df4.wip.quantile(0.25)\n",
    "Q3 = df4.wip.quantile(0.75)\n",
    "Q1, Q3"
   ]
  },
  {
   "cell_type": "code",
   "execution_count": 135,
   "id": "a49da8f9",
   "metadata": {},
   "outputs": [
    {
     "data": {
      "text/plain": [
       "1084.75"
      ]
     },
     "execution_count": 135,
     "metadata": {},
     "output_type": "execute_result"
    }
   ],
   "source": [
    "IQR = Q3 - Q1\n",
    "IQR"
   ]
  },
  {
   "cell_type": "code",
   "execution_count": 136,
   "id": "cd7add7b",
   "metadata": {},
   "outputs": [
    {
     "data": {
      "text/plain": [
       "(-1627.125, 2711.875)"
      ]
     },
     "execution_count": 136,
     "metadata": {},
     "output_type": "execute_result"
    }
   ],
   "source": [
    "lower_limit = Q1 - 1.5*IQR\n",
    "upper_limit = Q3 + 1.5*IQR\n",
    "lower_limit, upper_limit"
   ]
  },
  {
   "cell_type": "code",
   "execution_count": 137,
   "id": "b63d0ca1",
   "metadata": {},
   "outputs": [
    {
     "data": {
      "text/html": [
       "<div>\n",
       "<style scoped>\n",
       "    .dataframe tbody tr th:only-of-type {\n",
       "        vertical-align: middle;\n",
       "    }\n",
       "\n",
       "    .dataframe tbody tr th {\n",
       "        vertical-align: top;\n",
       "    }\n",
       "\n",
       "    .dataframe thead th {\n",
       "        text-align: right;\n",
       "    }\n",
       "</style>\n",
       "<table border=\"1\" class=\"dataframe\">\n",
       "  <thead>\n",
       "    <tr style=\"text-align: right;\">\n",
       "      <th></th>\n",
       "      <th>quarter</th>\n",
       "      <th>department</th>\n",
       "      <th>team</th>\n",
       "      <th>targeted_productivity</th>\n",
       "      <th>smv</th>\n",
       "      <th>wip</th>\n",
       "      <th>over_time</th>\n",
       "      <th>incentive</th>\n",
       "      <th>idle_time</th>\n",
       "      <th>idle_men</th>\n",
       "      <th>no_of_style_change</th>\n",
       "      <th>no_of_workers</th>\n",
       "      <th>actual_productivity</th>\n",
       "    </tr>\n",
       "  </thead>\n",
       "  <tbody>\n",
       "    <tr>\n",
       "      <th>561</th>\n",
       "      <td>0</td>\n",
       "      <td>2</td>\n",
       "      <td>0</td>\n",
       "      <td>8</td>\n",
       "      <td>22.94</td>\n",
       "      <td>16882.0</td>\n",
       "      <td>7020</td>\n",
       "      <td>113</td>\n",
       "      <td>0.0</td>\n",
       "      <td>0</td>\n",
       "      <td>0</td>\n",
       "      <td>58.5</td>\n",
       "      <td>1.000602</td>\n",
       "    </tr>\n",
       "    <tr>\n",
       "      <th>563</th>\n",
       "      <td>0</td>\n",
       "      <td>2</td>\n",
       "      <td>1</td>\n",
       "      <td>8</td>\n",
       "      <td>22.52</td>\n",
       "      <td>21385.0</td>\n",
       "      <td>7020</td>\n",
       "      <td>88</td>\n",
       "      <td>0.0</td>\n",
       "      <td>0</td>\n",
       "      <td>0</td>\n",
       "      <td>58.5</td>\n",
       "      <td>0.900158</td>\n",
       "    </tr>\n",
       "    <tr>\n",
       "      <th>564</th>\n",
       "      <td>0</td>\n",
       "      <td>2</td>\n",
       "      <td>2</td>\n",
       "      <td>8</td>\n",
       "      <td>22.52</td>\n",
       "      <td>21266.0</td>\n",
       "      <td>6840</td>\n",
       "      <td>70</td>\n",
       "      <td>0.0</td>\n",
       "      <td>0</td>\n",
       "      <td>0</td>\n",
       "      <td>57.0</td>\n",
       "      <td>0.900142</td>\n",
       "    </tr>\n",
       "    <tr>\n",
       "      <th>565</th>\n",
       "      <td>0</td>\n",
       "      <td>2</td>\n",
       "      <td>9</td>\n",
       "      <td>8</td>\n",
       "      <td>22.52</td>\n",
       "      <td>21540.0</td>\n",
       "      <td>6720</td>\n",
       "      <td>88</td>\n",
       "      <td>0.0</td>\n",
       "      <td>0</td>\n",
       "      <td>0</td>\n",
       "      <td>56.0</td>\n",
       "      <td>0.900130</td>\n",
       "    </tr>\n",
       "    <tr>\n",
       "      <th>568</th>\n",
       "      <td>0</td>\n",
       "      <td>2</td>\n",
       "      <td>11</td>\n",
       "      <td>8</td>\n",
       "      <td>15.26</td>\n",
       "      <td>12261.0</td>\n",
       "      <td>3600</td>\n",
       "      <td>63</td>\n",
       "      <td>0.0</td>\n",
       "      <td>0</td>\n",
       "      <td>0</td>\n",
       "      <td>35.0</td>\n",
       "      <td>0.800402</td>\n",
       "    </tr>\n",
       "    <tr>\n",
       "      <th>569</th>\n",
       "      <td>0</td>\n",
       "      <td>2</td>\n",
       "      <td>3</td>\n",
       "      <td>8</td>\n",
       "      <td>22.52</td>\n",
       "      <td>23122.0</td>\n",
       "      <td>5940</td>\n",
       "      <td>50</td>\n",
       "      <td>0.0</td>\n",
       "      <td>0</td>\n",
       "      <td>0</td>\n",
       "      <td>56.5</td>\n",
       "      <td>0.800393</td>\n",
       "    </tr>\n",
       "    <tr>\n",
       "      <th>570</th>\n",
       "      <td>0</td>\n",
       "      <td>2</td>\n",
       "      <td>8</td>\n",
       "      <td>7</td>\n",
       "      <td>29.12</td>\n",
       "      <td>8992.0</td>\n",
       "      <td>6960</td>\n",
       "      <td>55</td>\n",
       "      <td>0.0</td>\n",
       "      <td>0</td>\n",
       "      <td>0</td>\n",
       "      <td>58.0</td>\n",
       "      <td>0.799963</td>\n",
       "    </tr>\n",
       "    <tr>\n",
       "      <th>572</th>\n",
       "      <td>0</td>\n",
       "      <td>2</td>\n",
       "      <td>10</td>\n",
       "      <td>6</td>\n",
       "      <td>20.55</td>\n",
       "      <td>9792.0</td>\n",
       "      <td>6480</td>\n",
       "      <td>60</td>\n",
       "      <td>0.0</td>\n",
       "      <td>0</td>\n",
       "      <td>0</td>\n",
       "      <td>54.0</td>\n",
       "      <td>0.700398</td>\n",
       "    </tr>\n",
       "    <tr>\n",
       "      <th>573</th>\n",
       "      <td>0</td>\n",
       "      <td>2</td>\n",
       "      <td>5</td>\n",
       "      <td>6</td>\n",
       "      <td>18.79</td>\n",
       "      <td>2984.0</td>\n",
       "      <td>3960</td>\n",
       "      <td>30</td>\n",
       "      <td>0.0</td>\n",
       "      <td>0</td>\n",
       "      <td>0</td>\n",
       "      <td>33.0</td>\n",
       "      <td>0.700355</td>\n",
       "    </tr>\n",
       "  </tbody>\n",
       "</table>\n",
       "</div>"
      ],
      "text/plain": [
       "     quarter  department  team  targeted_productivity    smv      wip  \\\n",
       "561        0           2     0                      8  22.94  16882.0   \n",
       "563        0           2     1                      8  22.52  21385.0   \n",
       "564        0           2     2                      8  22.52  21266.0   \n",
       "565        0           2     9                      8  22.52  21540.0   \n",
       "568        0           2    11                      8  15.26  12261.0   \n",
       "569        0           2     3                      8  22.52  23122.0   \n",
       "570        0           2     8                      7  29.12   8992.0   \n",
       "572        0           2    10                      6  20.55   9792.0   \n",
       "573        0           2     5                      6  18.79   2984.0   \n",
       "\n",
       "     over_time  incentive  idle_time  idle_men  no_of_style_change  \\\n",
       "561       7020        113        0.0         0                   0   \n",
       "563       7020         88        0.0         0                   0   \n",
       "564       6840         70        0.0         0                   0   \n",
       "565       6720         88        0.0         0                   0   \n",
       "568       3600         63        0.0         0                   0   \n",
       "569       5940         50        0.0         0                   0   \n",
       "570       6960         55        0.0         0                   0   \n",
       "572       6480         60        0.0         0                   0   \n",
       "573       3960         30        0.0         0                   0   \n",
       "\n",
       "     no_of_workers  actual_productivity  \n",
       "561           58.5             1.000602  \n",
       "563           58.5             0.900158  \n",
       "564           57.0             0.900142  \n",
       "565           56.0             0.900130  \n",
       "568           35.0             0.800402  \n",
       "569           56.5             0.800393  \n",
       "570           58.0             0.799963  \n",
       "572           54.0             0.700398  \n",
       "573           33.0             0.700355  "
      ]
     },
     "execution_count": 137,
     "metadata": {},
     "output_type": "execute_result"
    }
   ],
   "source": [
    "df4[(df4.wip<lower_limit)|(df4.wip>upper_limit)]"
   ]
  },
  {
   "cell_type": "code",
   "execution_count": 138,
   "id": "766799e8",
   "metadata": {},
   "outputs": [],
   "source": [
    "df5 = df4[(df4.wip>lower_limit)&(df4.wip<upper_limit)]"
   ]
  },
  {
   "cell_type": "code",
   "execution_count": 139,
   "id": "9808b5e7",
   "metadata": {},
   "outputs": [
    {
     "data": {
      "text/plain": [
       "(1177, 13)"
      ]
     },
     "execution_count": 139,
     "metadata": {},
     "output_type": "execute_result"
    }
   ],
   "source": [
    "df5.shape"
   ]
  },
  {
   "cell_type": "markdown",
   "id": "9d152484",
   "metadata": {},
   "source": [
    "### Removing Outliers for 'over_time' column"
   ]
  },
  {
   "cell_type": "code",
   "execution_count": 170,
   "id": "e32483a3",
   "metadata": {},
   "outputs": [
    {
     "data": {
      "text/plain": [
       "(1440.0, 6960.0)"
      ]
     },
     "execution_count": 170,
     "metadata": {},
     "output_type": "execute_result"
    }
   ],
   "source": [
    "Q1 = df5.over_time.quantile(0.25)\n",
    "Q3 = df5.over_time.quantile(0.75)\n",
    "Q1, Q3"
   ]
  },
  {
   "cell_type": "code",
   "execution_count": 171,
   "id": "67c19eba",
   "metadata": {},
   "outputs": [
    {
     "data": {
      "text/plain": [
       "5520.0"
      ]
     },
     "execution_count": 171,
     "metadata": {},
     "output_type": "execute_result"
    }
   ],
   "source": [
    "IQR = Q3 - Q1\n",
    "IQR"
   ]
  },
  {
   "cell_type": "code",
   "execution_count": 172,
   "id": "a9a7cef3",
   "metadata": {},
   "outputs": [
    {
     "data": {
      "text/plain": [
       "(-6840.0, 15240.0)"
      ]
     },
     "execution_count": 172,
     "metadata": {},
     "output_type": "execute_result"
    }
   ],
   "source": [
    "lower_limit = Q1 - 1.5*IQR\n",
    "upper_limit = Q3 + 1.5*IQR\n",
    "lower_limit, upper_limit"
   ]
  },
  {
   "cell_type": "code",
   "execution_count": 173,
   "id": "80a923a2",
   "metadata": {},
   "outputs": [
    {
     "data": {
      "text/html": [
       "<div>\n",
       "<style scoped>\n",
       "    .dataframe tbody tr th:only-of-type {\n",
       "        vertical-align: middle;\n",
       "    }\n",
       "\n",
       "    .dataframe tbody tr th {\n",
       "        vertical-align: top;\n",
       "    }\n",
       "\n",
       "    .dataframe thead th {\n",
       "        text-align: right;\n",
       "    }\n",
       "</style>\n",
       "<table border=\"1\" class=\"dataframe\">\n",
       "  <thead>\n",
       "    <tr style=\"text-align: right;\">\n",
       "      <th></th>\n",
       "      <th>quarter</th>\n",
       "      <th>department</th>\n",
       "      <th>team</th>\n",
       "      <th>targeted_productivity</th>\n",
       "      <th>smv</th>\n",
       "      <th>wip</th>\n",
       "      <th>over_time</th>\n",
       "      <th>incentive</th>\n",
       "      <th>idle_time</th>\n",
       "      <th>idle_men</th>\n",
       "      <th>no_of_style_change</th>\n",
       "      <th>no_of_workers</th>\n",
       "      <th>actual_productivity</th>\n",
       "    </tr>\n",
       "  </thead>\n",
       "  <tbody>\n",
       "    <tr>\n",
       "      <th>146</th>\n",
       "      <td>1</td>\n",
       "      <td>2</td>\n",
       "      <td>10</td>\n",
       "      <td>1</td>\n",
       "      <td>12.52</td>\n",
       "      <td>287.0</td>\n",
       "      <td>25920</td>\n",
       "      <td>38</td>\n",
       "      <td>0.0</td>\n",
       "      <td>0</td>\n",
       "      <td>0</td>\n",
       "      <td>54.0</td>\n",
       "      <td>0.349951</td>\n",
       "    </tr>\n",
       "  </tbody>\n",
       "</table>\n",
       "</div>"
      ],
      "text/plain": [
       "     quarter  department  team  targeted_productivity    smv    wip  \\\n",
       "146        1           2    10                      1  12.52  287.0   \n",
       "\n",
       "     over_time  incentive  idle_time  idle_men  no_of_style_change  \\\n",
       "146      25920         38        0.0         0                   0   \n",
       "\n",
       "     no_of_workers  actual_productivity  \n",
       "146           54.0             0.349951  "
      ]
     },
     "execution_count": 173,
     "metadata": {},
     "output_type": "execute_result"
    }
   ],
   "source": [
    "df5[(df5.over_time<lower_limit)|(df5.over_time>upper_limit)]"
   ]
  },
  {
   "cell_type": "code",
   "execution_count": 174,
   "id": "29c14879",
   "metadata": {},
   "outputs": [],
   "source": [
    "df6 = df5[(df5.over_time>lower_limit)&(df5.over_time<upper_limit)]"
   ]
  },
  {
   "cell_type": "code",
   "execution_count": 175,
   "id": "da514ad7",
   "metadata": {},
   "outputs": [
    {
     "data": {
      "text/plain": [
       "(1176, 13)"
      ]
     },
     "execution_count": 175,
     "metadata": {},
     "output_type": "execute_result"
    }
   ],
   "source": [
    "df6.shape"
   ]
  },
  {
   "cell_type": "markdown",
   "id": "763c036c",
   "metadata": {},
   "source": [
    "### Plotting after removing Outliers"
   ]
  },
  {
   "cell_type": "code",
   "execution_count": 203,
   "id": "13e16c8d",
   "metadata": {},
   "outputs": [
    {
     "data": {
      "text/plain": [
       "(array([ 0,  1,  2,  3,  4,  5,  6,  7,  8,  9, 10, 11, 12]),\n",
       " [Text(0, 0, 'quarter'),\n",
       "  Text(1, 0, 'department'),\n",
       "  Text(2, 0, 'team'),\n",
       "  Text(3, 0, 'targeted_productivity'),\n",
       "  Text(4, 0, 'smv'),\n",
       "  Text(5, 0, 'wip'),\n",
       "  Text(6, 0, 'over_time'),\n",
       "  Text(7, 0, 'incentive'),\n",
       "  Text(8, 0, 'idle_time'),\n",
       "  Text(9, 0, 'idle_men'),\n",
       "  Text(10, 0, 'no_of_style_change'),\n",
       "  Text(11, 0, 'no_of_workers'),\n",
       "  Text(12, 0, 'actual_productivity')])"
      ]
     },
     "execution_count": 203,
     "metadata": {},
     "output_type": "execute_result"
    },
    {
     "data": {
      "image/png": "[encoded data removed]",
      "text/plain": [
       "<Figure size 720x360 with 1 Axes>"
      ]
     },
     "metadata": {
      "needs_background": "light"
     },
     "output_type": "display_data"
    }
   ],
   "source": [
    "plt.figure(figsize=(10,5))\n",
    "p = sns.boxplot(data = df6, orient ='v',width=0.8)\n",
    "plt.xticks(rotation=90)"
   ]
  },
  {
   "cell_type": "markdown",
   "id": "3e0a53ec",
   "metadata": {},
   "source": [
    "# Encoding & Scaling"
   ]
  },
  {
   "cell_type": "code",
   "execution_count": 143,
   "id": "90f3d461",
   "metadata": {},
   "outputs": [],
   "source": [
    "from sklearn.preprocessing import LabelEncoder\n",
    "le = LabelEncoder()"
   ]
  },
  {
   "cell_type": "code",
   "execution_count": 177,
   "id": "688374fa",
   "metadata": {},
   "outputs": [],
   "source": [
    "for i in range(0, df6.shape[1]):\n",
    "    if df6.dtypes[i]=='object':\n",
    "        df6[df6.columns[i]] = le.fit_transform(df6[df6.columns[i]])"
   ]
  },
  {
   "cell_type": "code",
   "execution_count": 178,
   "id": "3611d424",
   "metadata": {},
   "outputs": [
    {
     "data": {
      "text/html": [
       "<div>\n",
       "<style scoped>\n",
       "    .dataframe tbody tr th:only-of-type {\n",
       "        vertical-align: middle;\n",
       "    }\n",
       "\n",
       "    .dataframe tbody tr th {\n",
       "        vertical-align: top;\n",
       "    }\n",
       "\n",
       "    .dataframe thead th {\n",
       "        text-align: right;\n",
       "    }\n",
       "</style>\n",
       "<table border=\"1\" class=\"dataframe\">\n",
       "  <thead>\n",
       "    <tr style=\"text-align: right;\">\n",
       "      <th></th>\n",
       "      <th>quarter</th>\n",
       "      <th>department</th>\n",
       "      <th>team</th>\n",
       "      <th>targeted_productivity</th>\n",
       "      <th>smv</th>\n",
       "      <th>wip</th>\n",
       "      <th>over_time</th>\n",
       "      <th>incentive</th>\n",
       "      <th>idle_time</th>\n",
       "      <th>idle_men</th>\n",
       "      <th>no_of_style_change</th>\n",
       "      <th>no_of_workers</th>\n",
       "      <th>actual_productivity</th>\n",
       "    </tr>\n",
       "  </thead>\n",
       "  <tbody>\n",
       "    <tr>\n",
       "      <th>0</th>\n",
       "      <td>0</td>\n",
       "      <td>2</td>\n",
       "      <td>7</td>\n",
       "      <td>8</td>\n",
       "      <td>26.16</td>\n",
       "      <td>1108.0</td>\n",
       "      <td>7080</td>\n",
       "      <td>98</td>\n",
       "      <td>0.0</td>\n",
       "      <td>0</td>\n",
       "      <td>0</td>\n",
       "      <td>59.0</td>\n",
       "      <td>0.940725</td>\n",
       "    </tr>\n",
       "    <tr>\n",
       "      <th>1</th>\n",
       "      <td>0</td>\n",
       "      <td>1</td>\n",
       "      <td>0</td>\n",
       "      <td>7</td>\n",
       "      <td>3.94</td>\n",
       "      <td>0.0</td>\n",
       "      <td>960</td>\n",
       "      <td>0</td>\n",
       "      <td>0.0</td>\n",
       "      <td>0</td>\n",
       "      <td>0</td>\n",
       "      <td>8.0</td>\n",
       "      <td>0.886500</td>\n",
       "    </tr>\n",
       "    <tr>\n",
       "      <th>2</th>\n",
       "      <td>0</td>\n",
       "      <td>2</td>\n",
       "      <td>10</td>\n",
       "      <td>8</td>\n",
       "      <td>11.41</td>\n",
       "      <td>968.0</td>\n",
       "      <td>3660</td>\n",
       "      <td>50</td>\n",
       "      <td>0.0</td>\n",
       "      <td>0</td>\n",
       "      <td>0</td>\n",
       "      <td>30.5</td>\n",
       "      <td>0.800570</td>\n",
       "    </tr>\n",
       "    <tr>\n",
       "      <th>3</th>\n",
       "      <td>0</td>\n",
       "      <td>2</td>\n",
       "      <td>11</td>\n",
       "      <td>8</td>\n",
       "      <td>11.41</td>\n",
       "      <td>968.0</td>\n",
       "      <td>3660</td>\n",
       "      <td>50</td>\n",
       "      <td>0.0</td>\n",
       "      <td>0</td>\n",
       "      <td>0</td>\n",
       "      <td>30.5</td>\n",
       "      <td>0.800570</td>\n",
       "    </tr>\n",
       "    <tr>\n",
       "      <th>4</th>\n",
       "      <td>0</td>\n",
       "      <td>2</td>\n",
       "      <td>5</td>\n",
       "      <td>8</td>\n",
       "      <td>25.90</td>\n",
       "      <td>1170.0</td>\n",
       "      <td>1920</td>\n",
       "      <td>50</td>\n",
       "      <td>0.0</td>\n",
       "      <td>0</td>\n",
       "      <td>0</td>\n",
       "      <td>56.0</td>\n",
       "      <td>0.800382</td>\n",
       "    </tr>\n",
       "  </tbody>\n",
       "</table>\n",
       "</div>"
      ],
      "text/plain": [
       "   quarter  department  team  targeted_productivity    smv     wip  over_time  \\\n",
       "0        0           2     7                      8  26.16  1108.0       7080   \n",
       "1        0           1     0                      7   3.94     0.0        960   \n",
       "2        0           2    10                      8  11.41   968.0       3660   \n",
       "3        0           2    11                      8  11.41   968.0       3660   \n",
       "4        0           2     5                      8  25.90  1170.0       1920   \n",
       "\n",
       "   incentive  idle_time  idle_men  no_of_style_change  no_of_workers  \\\n",
       "0         98        0.0         0                   0           59.0   \n",
       "1          0        0.0         0                   0            8.0   \n",
       "2         50        0.0         0                   0           30.5   \n",
       "3         50        0.0         0                   0           30.5   \n",
       "4         50        0.0         0                   0           56.0   \n",
       "\n",
       "   actual_productivity  \n",
       "0             0.940725  \n",
       "1             0.886500  \n",
       "2             0.800570  \n",
       "3             0.800570  \n",
       "4             0.800382  "
      ]
     },
     "execution_count": 178,
     "metadata": {},
     "output_type": "execute_result"
    }
   ],
   "source": [
    "df6.head()"
   ]
  },
  {
   "cell_type": "code",
   "execution_count": 179,
   "id": "aa6a883b",
   "metadata": {},
   "outputs": [],
   "source": [
    "x = df6.drop(['actual_productivity'], axis=1)\n",
    "y = df6.actual_productivity"
   ]
  },
  {
   "cell_type": "code",
   "execution_count": 180,
   "id": "e9055295",
   "metadata": {},
   "outputs": [
    {
     "data": {
      "text/plain": [
       "((1176, 12), (1176,))"
      ]
     },
     "execution_count": 180,
     "metadata": {},
     "output_type": "execute_result"
    }
   ],
   "source": [
    "x.shape, y.shape"
   ]
  },
  {
   "cell_type": "code",
   "execution_count": 181,
   "id": "d6abb800",
   "metadata": {},
   "outputs": [
    {
     "data": {
      "text/plain": [
       "0    0.940725\n",
       "1    0.886500\n",
       "2    0.800570\n",
       "3    0.800570\n",
       "4    0.800382\n",
       "Name: actual_productivity, dtype: float64"
      ]
     },
     "execution_count": 181,
     "metadata": {},
     "output_type": "execute_result"
    }
   ],
   "source": [
    "y.head()"
   ]
  },
  {
   "cell_type": "code",
   "execution_count": 182,
   "id": "8991ca42",
   "metadata": {},
   "outputs": [],
   "source": [
    "#Standarization\n",
    "from sklearn.preprocessing import StandardScaler"
   ]
  },
  {
   "cell_type": "code",
   "execution_count": 183,
   "id": "a9eae446",
   "metadata": {},
   "outputs": [],
   "source": [
    "scaler = StandardScaler()"
   ]
  },
  {
   "cell_type": "code",
   "execution_count": 184,
   "id": "fe4c362f",
   "metadata": {},
   "outputs": [],
   "source": [
    "x.iloc[:,:] = scaler.fit_transform(x.iloc[:,:])"
   ]
  },
  {
   "cell_type": "code",
   "execution_count": 185,
   "id": "8f5edfea",
   "metadata": {},
   "outputs": [
    {
     "data": {
      "text/html": [
       "<div>\n",
       "<style scoped>\n",
       "    .dataframe tbody tr th:only-of-type {\n",
       "        vertical-align: middle;\n",
       "    }\n",
       "\n",
       "    .dataframe tbody tr th {\n",
       "        vertical-align: top;\n",
       "    }\n",
       "\n",
       "    .dataframe thead th {\n",
       "        text-align: right;\n",
       "    }\n",
       "</style>\n",
       "<table border=\"1\" class=\"dataframe\">\n",
       "  <thead>\n",
       "    <tr style=\"text-align: right;\">\n",
       "      <th></th>\n",
       "      <th>quarter</th>\n",
       "      <th>department</th>\n",
       "      <th>team</th>\n",
       "      <th>targeted_productivity</th>\n",
       "      <th>smv</th>\n",
       "      <th>wip</th>\n",
       "      <th>over_time</th>\n",
       "      <th>incentive</th>\n",
       "      <th>idle_time</th>\n",
       "      <th>idle_men</th>\n",
       "      <th>no_of_style_change</th>\n",
       "      <th>no_of_workers</th>\n",
       "    </tr>\n",
       "  </thead>\n",
       "  <tbody>\n",
       "    <tr>\n",
       "      <th>0</th>\n",
       "      <td>-1.160117</td>\n",
       "      <td>0.780739</td>\n",
       "      <td>0.455616</td>\n",
       "      <td>0.793561</td>\n",
       "      <td>1.008608</td>\n",
       "      <td>0.926217</td>\n",
       "      <td>0.760786</td>\n",
       "      <td>2.413020</td>\n",
       "      <td>-0.057985</td>\n",
       "      <td>-0.114022</td>\n",
       "      <td>-0.355135</td>\n",
       "      <td>1.097504</td>\n",
       "    </tr>\n",
       "    <tr>\n",
       "      <th>1</th>\n",
       "      <td>-1.160117</td>\n",
       "      <td>-0.468444</td>\n",
       "      <td>-1.571751</td>\n",
       "      <td>0.189530</td>\n",
       "      <td>-1.018120</td>\n",
       "      <td>-1.019391</td>\n",
       "      <td>-1.102067</td>\n",
       "      <td>-0.847073</td>\n",
       "      <td>-0.057985</td>\n",
       "      <td>-0.114022</td>\n",
       "      <td>-0.355135</td>\n",
       "      <td>-1.201499</td>\n",
       "    </tr>\n",
       "    <tr>\n",
       "      <th>2</th>\n",
       "      <td>-1.160117</td>\n",
       "      <td>0.780739</td>\n",
       "      <td>1.324487</td>\n",
       "      <td>0.793561</td>\n",
       "      <td>-0.336767</td>\n",
       "      <td>0.680382</td>\n",
       "      <td>-0.280220</td>\n",
       "      <td>0.816240</td>\n",
       "      <td>-0.057985</td>\n",
       "      <td>-0.114022</td>\n",
       "      <td>-0.355135</td>\n",
       "      <td>-0.187233</td>\n",
       "    </tr>\n",
       "    <tr>\n",
       "      <th>3</th>\n",
       "      <td>-1.160117</td>\n",
       "      <td>0.780739</td>\n",
       "      <td>1.614110</td>\n",
       "      <td>0.793561</td>\n",
       "      <td>-0.336767</td>\n",
       "      <td>0.680382</td>\n",
       "      <td>-0.280220</td>\n",
       "      <td>0.816240</td>\n",
       "      <td>-0.057985</td>\n",
       "      <td>-0.114022</td>\n",
       "      <td>-0.355135</td>\n",
       "      <td>-0.187233</td>\n",
       "    </tr>\n",
       "    <tr>\n",
       "      <th>4</th>\n",
       "      <td>-1.160117</td>\n",
       "      <td>0.780739</td>\n",
       "      <td>-0.123632</td>\n",
       "      <td>0.793561</td>\n",
       "      <td>0.984893</td>\n",
       "      <td>1.035087</td>\n",
       "      <td>-0.809855</td>\n",
       "      <td>0.816240</td>\n",
       "      <td>-0.057985</td>\n",
       "      <td>-0.114022</td>\n",
       "      <td>-0.355135</td>\n",
       "      <td>0.962269</td>\n",
       "    </tr>\n",
       "  </tbody>\n",
       "</table>\n",
       "</div>"
      ],
      "text/plain": [
       "    quarter  department      team  targeted_productivity       smv       wip  \\\n",
       "0 -1.160117    0.780739  0.455616               0.793561  1.008608  0.926217   \n",
       "1 -1.160117   -0.468444 -1.571751               0.189530 -1.018120 -1.019391   \n",
       "2 -1.160117    0.780739  1.324487               0.793561 -0.336767  0.680382   \n",
       "3 -1.160117    0.780739  1.614110               0.793561 -0.336767  0.680382   \n",
       "4 -1.160117    0.780739 -0.123632               0.793561  0.984893  1.035087   \n",
       "\n",
       "   over_time  incentive  idle_time  idle_men  no_of_style_change  \\\n",
       "0   0.760786   2.413020  -0.057985 -0.114022           -0.355135   \n",
       "1  -1.102067  -0.847073  -0.057985 -0.114022           -0.355135   \n",
       "2  -0.280220   0.816240  -0.057985 -0.114022           -0.355135   \n",
       "3  -0.280220   0.816240  -0.057985 -0.114022           -0.355135   \n",
       "4  -0.809855   0.816240  -0.057985 -0.114022           -0.355135   \n",
       "\n",
       "   no_of_workers  \n",
       "0       1.097504  \n",
       "1      -1.201499  \n",
       "2      -0.187233  \n",
       "3      -0.187233  \n",
       "4       0.962269  "
      ]
     },
     "execution_count": 185,
     "metadata": {},
     "output_type": "execute_result"
    }
   ],
   "source": [
    "x.head()"
   ]
  },
  {
   "cell_type": "markdown",
   "id": "47463491",
   "metadata": {},
   "source": [
    "# Train Test Split"
   ]
  },
  {
   "cell_type": "code",
   "execution_count": 187,
   "id": "252d27aa",
   "metadata": {},
   "outputs": [],
   "source": [
    "from sklearn.model_selection import train_test_split\n",
    "x_train, x_test, y_train, y_test = train_test_split(x, y, test_size=0.30, random_state=42)"
   ]
  },
  {
   "cell_type": "code",
   "execution_count": 188,
   "id": "af8bc5ef",
   "metadata": {},
   "outputs": [
    {
     "name": "stdout",
     "output_type": "stream",
     "text": [
      "(823, 12)\n",
      "(353, 12)\n",
      "(823,)\n",
      "(353,)\n"
     ]
    }
   ],
   "source": [
    "print(x_train.shape)\n",
    "print(x_test.shape)\n",
    "print(y_train.shape)\n",
    "print(y_test.shape)"
   ]
  },
  {
   "cell_type": "markdown",
   "id": "b4ec1d7e",
   "metadata": {},
   "source": [
    "# Implementing ML Algorithms "
   ]
  },
  {
   "cell_type": "code",
   "execution_count": 204,
   "id": "d9497481",
   "metadata": {},
   "outputs": [],
   "source": [
    "from sklearn.metrics import mean_squared_error\n",
    "from sklearn.metrics import mean_absolute_error\n",
    "from math import sqrt\n",
    "from sklearn.metrics import mean_absolute_percentage_error"
   ]
  },
  {
   "cell_type": "code",
   "execution_count": 214,
   "id": "ad1e8d9a",
   "metadata": {},
   "outputs": [
    {
     "name": "stdout",
     "output_type": "stream",
     "text": [
      "MAE  : 0.09173432159354268\n",
      "MSE  : 0.017322506211596866\n",
      "RMSE : 0.13161499235116364\n",
      "MAPE : 0.15309295032974513\n"
     ]
    }
   ],
   "source": [
    "from sklearn.linear_model import LinearRegression\n",
    "linreg = LinearRegression()\n",
    "linreg.fit(x_train,y_train)\n",
    "pred_linreg = linreg.predict(x_test)\n",
    "print(\"MAE  :\", mean_absolute_error(y_test, pred_linreg))\n",
    "print(\"MSE  :\", mean_squared_error(y_test, pred_linreg))\n",
    "print(\"RMSE :\",sqrt(mean_squared_error(y_test, pred_linreg)))\n",
    "print(\"MAPE :\",mean_absolute_percentage_error(y_test, pred_linreg))"
   ]
  },
  {
   "cell_type": "code",
   "execution_count": 215,
   "id": "31c2cb67",
   "metadata": {},
   "outputs": [
    {
     "name": "stdout",
     "output_type": "stream",
     "text": [
      "MAE  : 0.07972114065382437\n",
      "MSE  : 0.015196561008249902\n",
      "RMSE : 0.12327433231719367\n",
      "MAPE : 0.136528142030027\n"
     ]
    }
   ],
   "source": [
    "from sklearn.neighbors import KNeighborsRegressor\n",
    "knn = KNeighborsRegressor()\n",
    "knn.fit(x_train,y_train)\n",
    "pred_knn = knn.predict(x_test)\n",
    "print(\"MAE  :\", mean_absolute_error(y_test, pred_knn))\n",
    "print(\"MSE  :\", mean_squared_error(y_test, pred_knn))\n",
    "print(\"RMSE :\",sqrt(mean_squared_error(y_test, pred_knn)))\n",
    "print(\"MAPE :\",mean_absolute_percentage_error(y_test, pred_knn))"
   ]
  },
  {
   "cell_type": "code",
   "execution_count": 222,
   "id": "613746f0",
   "metadata": {},
   "outputs": [
    {
     "name": "stdout",
     "output_type": "stream",
     "text": [
      "MAE  : 0.08493002999324906\n",
      "MSE  : 0.014784814024549273\n",
      "RMSE : 0.1215928206126878\n",
      "MAPE : 0.14430703024930538\n"
     ]
    }
   ],
   "source": [
    "from sklearn.svm import SVR\n",
    "svr = SVR()\n",
    "svr.fit(x_train,y_train)\n",
    "pred_svr = svr.predict(x_test)\n",
    "print(\"MAE  :\", mean_absolute_error(y_test, pred_svr))\n",
    "print(\"MSE  :\", mean_squared_error(y_test, pred_svr))\n",
    "print(\"RMSE :\",sqrt(mean_squared_error(y_test, pred_svr)))\n",
    "print(\"MAPE :\",mean_absolute_percentage_error(y_test, pred_svr))"
   ]
  },
  {
   "cell_type": "code",
   "execution_count": 223,
   "id": "ed452399",
   "metadata": {},
   "outputs": [
    {
     "name": "stdout",
     "output_type": "stream",
     "text": [
      "MAE  : 0.08354946135646837\n",
      "MSE  : 0.022043215005739723\n",
      "RMSE : 0.14846957602734548\n",
      "MAPE : 0.1378547135689915\n"
     ]
    }
   ],
   "source": [
    "from sklearn.tree import DecisionTreeRegressor\n",
    "dt = DecisionTreeRegressor(random_state=42)\n",
    "dt.fit(x_train,y_train)\n",
    "pred_dt = dt.predict(x_test)\n",
    "print(\"MAE  :\", mean_absolute_error(y_test, pred_dt))\n",
    "print(\"MSE  :\", mean_squared_error(y_test, pred_dt))\n",
    "print(\"RMSE :\",sqrt(mean_squared_error(y_test, pred_dt)))\n",
    "print(\"MAPE :\",mean_absolute_percentage_error(y_test, pred_dt))"
   ]
  },
  {
   "cell_type": "code",
   "execution_count": 218,
   "id": "24feec97",
   "metadata": {},
   "outputs": [
    {
     "name": "stdout",
     "output_type": "stream",
     "text": [
      "MAE  : 0.07202404187700943\n",
      "MSE  : 0.01358572929636936\n",
      "RMSE : 0.11655783670079571\n",
      "MAPE : 0.12028613886983702\n"
     ]
    }
   ],
   "source": [
    "from sklearn.ensemble import RandomForestRegressor\n",
    "randf = RandomForestRegressor(random_state=42)\n",
    "randf.fit(x_train,y_train)\n",
    "pred_randf = randf.predict(x_test)\n",
    "print(\"MAE  :\", mean_absolute_error(y_test, pred_randf))\n",
    "print(\"MSE  :\", mean_squared_error(y_test, pred_randf))\n",
    "print(\"RMSE :\",sqrt(mean_squared_error(y_test, pred_randf)))\n",
    "print(\"MAPE :\",mean_absolute_percentage_error(y_test, pred_randf))"
   ]
  },
  {
   "cell_type": "code",
   "execution_count": 219,
   "id": "e2050eb2",
   "metadata": {},
   "outputs": [
    {
     "name": "stdout",
     "output_type": "stream",
     "text": [
      "MAE  : 0.0754305131195305\n",
      "MSE  : 0.012737341468008395\n",
      "RMSE : 0.11285983106494708\n",
      "MAPE : 0.1267789323989287\n"
     ]
    }
   ],
   "source": [
    "from sklearn.ensemble import GradientBoostingRegressor\n",
    "gb = GradientBoostingRegressor(random_state=42)\n",
    "gb.fit(x_train,y_train)\n",
    "pred_gb = gb.predict(x_test)\n",
    "print(\"MAE  :\", mean_absolute_error(y_test, pred_gb))\n",
    "print(\"MSE  :\", mean_squared_error(y_test, pred_gb)) \n",
    "print(\"RMSE :\",sqrt(mean_squared_error(y_test, pred_gb)))\n",
    "print(\"MAPE :\",mean_absolute_percentage_error(y_test, pred_gb))"
   ]
  },
  {
   "cell_type": "code",
   "execution_count": 220,
   "id": "66fdf9ea",
   "metadata": {},
   "outputs": [
    {
     "name": "stdout",
     "output_type": "stream",
     "text": [
      "MAE  : 0.09400854607094812\n",
      "MSE  : 0.017259556332085164\n",
      "RMSE : 0.13137563066293978\n",
      "MAPE : 0.1501031395379779\n"
     ]
    }
   ],
   "source": [
    "from sklearn.ensemble import AdaBoostRegressor\n",
    "adab = AdaBoostRegressor(random_state=42)\n",
    "adab.fit(x_train,y_train)\n",
    "pred_adab = adab.predict(x_test)\n",
    "print(\"MAE  :\", mean_absolute_error(y_test, pred_adab))\n",
    "print(\"MSE  :\", mean_squared_error(y_test, pred_adab)) \n",
    "print(\"RMSE :\",sqrt(mean_squared_error(y_test, pred_adab)))\n",
    "print(\"MAPE :\",mean_absolute_percentage_error(y_test, pred_adab))"
   ]
  },
  {
   "cell_type": "code",
   "execution_count": 221,
   "id": "c0b0a5a5",
   "metadata": {},
   "outputs": [
    {
     "name": "stdout",
     "output_type": "stream",
     "text": [
      "MAE  : 0.07802755556881925\n",
      "MSE  : 0.015370259474852932\n",
      "RMSE : 0.12397685056030797\n",
      "MAPE : 0.1262245573843746\n"
     ]
    }
   ],
   "source": [
    "import xgboost\n",
    "from xgboost import XGBRegressor\n",
    "xgb = XGBRegressor()\n",
    "xgb.fit(x_train, y_train)\n",
    "pred_xgb = xgb.predict(x_test)\n",
    "print(\"MAE  :\", mean_absolute_error(y_test, pred_xgb))\n",
    "print(\"MSE  :\", mean_squared_error(y_test, pred_xgb)) \n",
    "print(\"RMSE :\",sqrt(mean_squared_error(y_test, pred_xgb)))\n",
    "print(\"MAPE :\",mean_absolute_percentage_error(y_test, pred_xgb))"
   ]
  },
  {
   "cell_type": "markdown",
   "id": "e670753c",
   "metadata": {},
   "source": [
    "# Saving files"
   ]
  },
  {
   "cell_type": "code",
   "execution_count": 31,
   "id": "9c261f5d",
   "metadata": {},
   "outputs": [],
   "source": [
    "import joblib as jb"
   ]
  },
  {
   "cell_type": "code",
   "execution_count": 224,
   "id": "a727e4f2",
   "metadata": {},
   "outputs": [
    {
     "data": {
      "text/plain": [
       "['xgb']"
      ]
     },
     "execution_count": 224,
     "metadata": {},
     "output_type": "execute_result"
    }
   ],
   "source": [
    "#Saving models using Joblib\n",
    "jb.dump(linreg,'linReg')\n",
    "jb.dump(knn,'knn')\n",
    "jb.dump(svr,'svr')\n",
    "jb.dump(dt,'dt')\n",
    "jb.dump(randf,'randf')\n",
    "jb.dump(gb,'gb')\n",
    "jb.dump(adab,'adab')\n",
    "jb.dump(xgb,'xgb')"
   ]
  },
  {
   "cell_type": "code",
   "execution_count": 225,
   "id": "17e48d1e",
   "metadata": {},
   "outputs": [],
   "source": [
    "#Loading those saved models\n",
    "import joblib as jb\n",
    "linreg_default =  jb.load('linReg')\n",
    "knn_default = jb.load('knn')\n",
    "svr_default = jb.load('svr')\n",
    "dt_default =  jb.load('dt')\n",
    "randf_default =  jb.load('randf')\n",
    "gb_default =  jb.load('gb')\n",
    "adab_default =  jb.load('adab')\n",
    "xgb_default =  jb.load('xgb')"
   ]
  },
  {
   "cell_type": "markdown",
   "id": "f728b86f",
   "metadata": {},
   "source": [
    "# Summery of Evaluation Metrics"
   ]
  },
  {
   "cell_type": "code",
   "execution_count": 3,
   "id": "27aa8e93",
   "metadata": {},
   "outputs": [
    {
     "data": {
      "text/html": [
       "<div>\n",
       "<style scoped>\n",
       "    .dataframe tbody tr th:only-of-type {\n",
       "        vertical-align: middle;\n",
       "    }\n",
       "\n",
       "    .dataframe tbody tr th {\n",
       "        vertical-align: top;\n",
       "    }\n",
       "\n",
       "    .dataframe thead th {\n",
       "        text-align: right;\n",
       "    }\n",
       "</style>\n",
       "<table border=\"1\" class=\"dataframe\">\n",
       "  <thead>\n",
       "    <tr style=\"text-align: right;\">\n",
       "      <th></th>\n",
       "      <th>Algorithm</th>\n",
       "      <th>MSE</th>\n",
       "      <th>RMSE</th>\n",
       "      <th>MAE</th>\n",
       "      <th>MAPE</th>\n",
       "    </tr>\n",
       "  </thead>\n",
       "  <tbody>\n",
       "    <tr>\n",
       "      <th>0</th>\n",
       "      <td>Linear Regression</td>\n",
       "      <td>0.017</td>\n",
       "      <td>0.131</td>\n",
       "      <td>0.091</td>\n",
       "      <td>15.30</td>\n",
       "    </tr>\n",
       "    <tr>\n",
       "      <th>1</th>\n",
       "      <td>K Nearest Neighbors</td>\n",
       "      <td>0.015</td>\n",
       "      <td>0.123</td>\n",
       "      <td>0.079</td>\n",
       "      <td>13.65</td>\n",
       "    </tr>\n",
       "    <tr>\n",
       "      <th>2</th>\n",
       "      <td>Support Vector Machine</td>\n",
       "      <td>0.014</td>\n",
       "      <td>0.121</td>\n",
       "      <td>0.084</td>\n",
       "      <td>14.43</td>\n",
       "    </tr>\n",
       "    <tr>\n",
       "      <th>3</th>\n",
       "      <td>Decision Tree</td>\n",
       "      <td>0.022</td>\n",
       "      <td>0.148</td>\n",
       "      <td>0.083</td>\n",
       "      <td>13.78</td>\n",
       "    </tr>\n",
       "    <tr>\n",
       "      <th>4</th>\n",
       "      <td>Random Forest</td>\n",
       "      <td>0.013</td>\n",
       "      <td>0.116</td>\n",
       "      <td>0.072</td>\n",
       "      <td>12.02</td>\n",
       "    </tr>\n",
       "    <tr>\n",
       "      <th>5</th>\n",
       "      <td>Gradient Boost</td>\n",
       "      <td>0.012</td>\n",
       "      <td>0.112</td>\n",
       "      <td>0.075</td>\n",
       "      <td>12.67</td>\n",
       "    </tr>\n",
       "    <tr>\n",
       "      <th>6</th>\n",
       "      <td>Adaboost</td>\n",
       "      <td>0.017</td>\n",
       "      <td>0.131</td>\n",
       "      <td>0.094</td>\n",
       "      <td>15.01</td>\n",
       "    </tr>\n",
       "    <tr>\n",
       "      <th>7</th>\n",
       "      <td>XGBoost</td>\n",
       "      <td>0.015</td>\n",
       "      <td>0.123</td>\n",
       "      <td>0.078</td>\n",
       "      <td>12.62</td>\n",
       "    </tr>\n",
       "  </tbody>\n",
       "</table>\n",
       "</div>"
      ],
      "text/plain": [
       "                Algorithm    MSE   RMSE    MAE   MAPE\n",
       "0       Linear Regression  0.017  0.131  0.091  15.30\n",
       "1     K Nearest Neighbors  0.015  0.123  0.079  13.65\n",
       "2  Support Vector Machine  0.014  0.121  0.084  14.43\n",
       "3           Decision Tree  0.022  0.148  0.083  13.78\n",
       "4           Random Forest  0.013  0.116  0.072  12.02\n",
       "5          Gradient Boost  0.012  0.112  0.075  12.67\n",
       "6                Adaboost  0.017  0.131  0.094  15.01\n",
       "7                 XGBoost  0.015  0.123  0.078  12.62"
      ]
     },
     "execution_count": 3,
     "metadata": {},
     "output_type": "execute_result"
    }
   ],
   "source": [
    "d = {'Algorithm': ['Linear Regression','K Nearest Neighbors', 'Support Vector Machine','Decision Tree',\n",
    "                   'Random Forest','Gradient Boost','Adaboost','XGBoost'],\n",
    "     'MSE' : [0.017,0.015,0.014,0.022,0.013, 0.012,0.017,0.015],\n",
    "     'RMSE': [0.131, 0.123, 0.121,0.148,0.116,0.112,0.131,0.123],\n",
    "     'MAE' : [0.091,0.079,0.084,0.083,0.072,0.075,0.094,0.078],\n",
    "     'MAPE': [15.30,13.65,14.43,13.78,12.02,12.67,15.01,12.62]\n",
    "    }\n",
    "df_accuracy = pd.DataFrame(data=d)\n",
    "df_accuracy"
   ]
  },
  {
   "cell_type": "markdown",
   "id": "aee4b309",
   "metadata": {},
   "source": [
    "# Interpreting the Model using Explainable AI - SHAP"
   ]
  },
  {
   "cell_type": "code",
   "execution_count": 198,
   "id": "7c59b18e",
   "metadata": {},
   "outputs": [],
   "source": [
    "import shap"
   ]
  },
  {
   "cell_type": "code",
   "execution_count": 199,
   "id": "934bf20b",
   "metadata": {},
   "outputs": [],
   "source": [
    "# Create object that can calculate shap values\n",
    "explainer = shap.TreeExplainer(randf)\n",
    "# Calculate Shap values\n",
    "shap_values = explainer.shap_values(x_train)"
   ]
  },
  {
   "cell_type": "code",
   "execution_count": 200,
   "id": "9e76c966",
   "metadata": {},
   "outputs": [
    {
     "data": {
      "image/png": "[encoded data removed]",
      "text/plain": [
       "<Figure size 576x453.6 with 2 Axes>"
      ]
     },
     "metadata": {
      "needs_background": "light"
     },
     "output_type": "display_data"
    }
   ],
   "source": [
    "shap.summary_plot(shap_values, x_train)"
   ]
  }
 ],
 "metadata": {
  "kernelspec": {
   "display_name": "Python 3",
   "language": "python",
   "name": "python3"
  },
  "language_info": {
   "codemirror_mode": {
    "name": "ipython",
    "version": 3
   },
   "file_extension": ".py",
   "mimetype": "text/x-python",
   "name": "python",
   "nbconvert_exporter": "python",
   "pygments_lexer": "ipython3",
   "version": "3.8.8"
  }
 },
 "nbformat": 4,
 "nbformat_minor": 5
}
